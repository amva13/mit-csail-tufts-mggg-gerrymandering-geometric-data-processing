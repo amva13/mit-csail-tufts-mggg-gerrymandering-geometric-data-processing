{
 "cells": [
  {
   "cell_type": "markdown",
   "metadata": {},
   "source": [
    "# The Adjacency Graphs Project\n",
    "This is a demonstration on how to use the **algorithms**, **plots** and **exporting** functionality in the Adjacency Graphs project. The package has been designed to make is easy for a python user to create, explore and modify graph objects that have been built from shape files. We have also *strongly encouraged* an architecture which will make it easy for new algorithms and methods to be included so that they're always easy for users to find. Let's get started\n",
    "\n",
    "## Loading in a shapefile\n",
    "The package needs exactly three pieces of input from the user to get started. We need to know the place you've stored your `.shp` file, the column of your shapefile to use to build a graph and the name of the algorithm you'd like to use. Here, we will use the included `TwoStepGraph` algorithm on example data in the testing directory."
   ]
  },
  {
   "cell_type": "code",
   "execution_count": 1,
   "metadata": {},
   "outputs": [],
   "source": [
    "# Any included algorithm can be imported like this\n",
    "from adjacency_graphs.algorithms import TwoStepGraph\n",
    "\n",
    "my_graph = TwoStepGraph(shp_path='../tests/shapefiles/testershape.shp', id_column='id')"
   ]
  },
  {
   "cell_type": "markdown",
   "metadata": {},
   "source": [
    "At this point, the results don't look so impressive. However, *most* of the magic has already happened by the way that we set up the project. We can now move around and use `my_graph` as a complete graph object. All of the useful information is already in there. To demonstrate the point, let's see what `my_graph` looks like using a built-in plotting function."
   ]
  },
  {
   "cell_type": "code",
   "execution_count": 2,
   "metadata": {},
   "outputs": [
    {
     "name": "stderr",
     "output_type": "stream",
     "text": [
      "/usr/local/lib/python2.7/site-packages/matplotlib/figure.py:403: UserWarning: matplotlib is currently using a non-GUI backend, so cannot show the figure\n",
      "  \"matplotlib is currently using a non-GUI backend, \"\n"
     ]
    }
   ],
   "source": [
    "# Here is how you import a plotting function\n",
    "from adjacency_graphs.plots.mpl import visualize_adjacency_graph\n",
    "\n",
    "# Make a matplotlib figure\n",
    "fig = visualize_adjacency_graph(my_graph)\n",
    "\n",
    "# Show that figure\n",
    "fig.show()"
   ]
  },
  {
   "cell_type": "markdown",
   "metadata": {},
   "source": [
    "All of the data necessary to make that plot was packed away in the `my_graph` object. Now, suppose that we're not really happy with the graph we created. The Adjacency Graphs Project library gives methods with which to modify the data.\n",
    "\n",
    "## Modifying Graphs\n",
    "There are at most two ways we can change a graph: we can change the vertices or we can change the edges. In this example, there is a purposefully droped vertex in the shapefile in position 14. The `TwoStep` algorithm could not possibly have made any edges, because the region associated to 14 didn't exist. Let's add it back in. "
   ]
  },
  {
   "cell_type": "code",
   "execution_count": 3,
   "metadata": {},
   "outputs": [],
   "source": [
    "# TODO add_vertex and fix this example\n",
    "# TODO need to add pysal object matching the added vertex\n",
    "import pandas as pd\n",
    "data = pd.DataFrame({'CENTROID_XCOORDINATES': .75, 'CENTROID_YCOORDINATES': -.25, 'id': 14}, index=[25])\n",
    "my_graph.shape_df = my_graph.shape_df.append(data)\n"
   ]
  },
  {
   "cell_type": "markdown",
   "metadata": {},
   "source": [
    "Adding a vertex takes additional data, since you must also provide the location of that vertex and any additional data that you'd like stored with that point. In contrast, it is very simple to add edges since you only need to provide which two points you need to connect in any order. We fill in the missing lines here and plot"
   ]
  },
  {
   "cell_type": "code",
   "execution_count": 4,
   "metadata": {},
   "outputs": [
    {
     "ename": "KeyError",
     "evalue": "25",
     "output_type": "error",
     "traceback": [
      "\u001b[0;31m---------------------------------------------------------------------------\u001b[0m",
      "\u001b[0;31mKeyError\u001b[0m                                  Traceback (most recent call last)",
      "\u001b[0;32m<ipython-input-4-5080371e30fb>\u001b[0m in \u001b[0;36m<module>\u001b[0;34m()\u001b[0m\n\u001b[1;32m      2\u001b[0m \u001b[0mmy_graph\u001b[0m\u001b[0;34m.\u001b[0m\u001b[0madd_edge\u001b[0m\u001b[0;34m(\u001b[0m\u001b[0;34m(\u001b[0m\u001b[0;36m14\u001b[0m\u001b[0;34m,\u001b[0m \u001b[0;36m7\u001b[0m\u001b[0;34m)\u001b[0m\u001b[0;34m)\u001b[0m\u001b[0;34m\u001b[0m\u001b[0m\n\u001b[1;32m      3\u001b[0m \u001b[0;34m\u001b[0m\u001b[0m\n\u001b[0;32m----> 4\u001b[0;31m \u001b[0mfig\u001b[0m \u001b[0;34m=\u001b[0m \u001b[0mvisualize_adjacency_graph\u001b[0m\u001b[0;34m(\u001b[0m\u001b[0mmy_graph\u001b[0m\u001b[0;34m)\u001b[0m\u001b[0;34m\u001b[0m\u001b[0m\n\u001b[0m\u001b[1;32m      5\u001b[0m \u001b[0mfig\u001b[0m\u001b[0;34m.\u001b[0m\u001b[0mshow\u001b[0m\u001b[0;34m(\u001b[0m\u001b[0;34m)\u001b[0m\u001b[0;34m\u001b[0m\u001b[0m\n",
      "\u001b[0;32m/Users/seth/Desktop/Repositories/state-adjacency-graphs/adjacency_graphs/plots/mpl.pyc\u001b[0m in \u001b[0;36mvisualize_adjacency_graph\u001b[0;34m(mggg_graph, out_dir)\u001b[0m\n\u001b[1;32m     38\u001b[0m     edge_list = [(polygon_centroids[gti[poly1]],\n\u001b[1;32m     39\u001b[0m                   polygon_centroids[gti[poly2]]) for poly1, neighbors in graph.items()\n\u001b[0;32m---> 40\u001b[0;31m                  for poly2 in neighbors]\n\u001b[0m\u001b[1;32m     41\u001b[0m \u001b[0;34m\u001b[0m\u001b[0m\n\u001b[1;32m     42\u001b[0m     \u001b[0medge_list\u001b[0m \u001b[0;34m=\u001b[0m \u001b[0mLineCollection\u001b[0m\u001b[0;34m(\u001b[0m\u001b[0medge_list\u001b[0m\u001b[0;34m)\u001b[0m\u001b[0;34m\u001b[0m\u001b[0m\n",
      "\u001b[0;31mKeyError\u001b[0m: 25"
     ]
    }
   ],
   "source": [
    "my_graph.add_edge((14, 4))\n",
    "my_graph.add_edge((14, 7))\n",
    "\n",
    "#fig = visualize_adjacency_graph(my_graph)\n",
    "#fig.show()"
   ]
  },
  {
   "cell_type": "markdown",
   "metadata": {},
   "source": [
    "## Exporting\n",
    "Now that our graph looks the way we would like, we can export it for other people to use. All of the vertex information and edge information, including what we have modified above, is written into the columns. Here, we write a csv to the `notebook_demo_graph.csv` file in this directory."
   ]
  },
  {
   "cell_type": "code",
   "execution_count": 5,
   "metadata": {
    "collapsed": true
   },
   "outputs": [],
   "source": [
    "my_graph.export_graph('notebook_demo_graph.csv')"
   ]
  },
  {
   "cell_type": "code",
   "execution_count": null,
   "metadata": {
    "collapsed": true
   },
   "outputs": [],
   "source": []
  }
 ],
 "metadata": {
  "kernelspec": {
   "display_name": "Python 2",
   "language": "python",
   "name": "python2"
  },
  "language_info": {
   "codemirror_mode": {
    "name": "ipython",
    "version": 2
   },
   "file_extension": ".py",
   "mimetype": "text/x-python",
   "name": "python",
   "nbconvert_exporter": "python",
   "pygments_lexer": "ipython2",
   "version": "2.7.13"
  }
 },
 "nbformat": 4,
 "nbformat_minor": 2
}
